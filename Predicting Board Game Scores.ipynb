{
 "cells": [
  {
   "cell_type": "code",
   "execution_count": 11,
   "metadata": {
    "collapsed": false
   },
   "outputs": [
    {
     "name": "stdout",
     "output_type": "stream",
     "text": [
      "81312\n",
      "81268\n",
      "56894\n"
     ]
    }
   ],
   "source": [
    "import pandas as pd\n",
    "board_games = pd.read_csv(\"C:/Python/games.csv\")\n",
    "print(len(board_games))\n",
    "board_games.dropna(axis = 0, inplace = True)\n",
    "print(len(board_games))\n",
    "board_games = board_games[board_games[\"users_rated\"]!=0]\n",
    "print(len(board_games))"
   ]
  },
  {
   "cell_type": "code",
   "execution_count": 18,
   "metadata": {
    "collapsed": false
   },
   "outputs": [
    {
     "data": {
      "image/png": "[encoded data removed]",
      "text/plain": [
       "<matplotlib.figure.Figure at 0x8a9dda0>"
      ]
     },
     "metadata": {},
     "output_type": "display_data"
    },
    {
     "name": "stdout",
     "output_type": "stream",
     "text": [
      "standard Dev\n",
      "1.5788160595839211\n",
      "average\n",
      "6.016112849333889\n"
     ]
    }
   ],
   "source": [
    "import matplotlib.pyplot as plt\n",
    "import numpy as numpy\n",
    "%matplotlib inline  \n",
    "plt.hist(board_games[\"average_rating\"])\n",
    "plt.show()\n",
    "print(\"standard Dev\")\n",
    "print(numpy.std(board_games[\"average_rating\"]))\n",
    "print(\"average\")\n",
    "print(numpy.mean(board_games[\"average_rating\"]))"
   ]
  },
  {
   "cell_type": "markdown",
   "metadata": {},
   "source": [
    "I'll use RMSE as the error metric for the prediction"
   ]
  },
  {
   "cell_type": "code",
   "execution_count": 25,
   "metadata": {
    "collapsed": false
   },
   "outputs": [
    {
     "data": {
      "image/png": "[encoded data removed]",
      "text/plain": [
       "<matplotlib.figure.Figure at 0x93d02b0>"
      ]
     },
     "metadata": {},
     "output_type": "display_data"
    }
   ],
   "source": [
    "from sklearn.cluster import KMeans\n",
    "k_means = KMeans(5)\n",
    "numeric_columns = board_games.drop([\"name\", \"type\", \"id\"], axis = 1)\n",
    "k_means.fit(numeric_columns)\n",
    "labels = k_means.labels_\n",
    "game_mean = numeric_columns.apply(numpy.mean, axis = 1)\n",
    "game_std = numeric_columns.apply(numpy.std, axis = 1)\n",
    "plt.scatter(x = game_mean, y = game_std, c = labels)\n",
    "plt.show()"
   ]
  },
  {
   "cell_type": "markdown",
   "metadata": {},
   "source": [
    "There appears to be a linear relationship between the mean and standard deviation. The orange group seems to have it's own grouping."
   ]
  },
  {
   "cell_type": "code",
   "execution_count": 27,
   "metadata": {
    "collapsed": false
   },
   "outputs": [
    {
     "name": "stdout",
     "output_type": "stream",
     "text": [
      "yearpublished           0.108461\n",
      "minplayers             -0.032701\n",
      "maxplayers             -0.008335\n",
      "playingtime             0.048994\n",
      "minplaytime             0.043985\n",
      "maxplaytime             0.048994\n",
      "minage                  0.210049\n",
      "users_rated             0.112564\n",
      "average_rating          1.000000\n",
      "bayes_average_rating    0.231563\n",
      "total_owners            0.137478\n",
      "total_traders           0.119452\n",
      "total_wanters           0.196566\n",
      "total_wishers           0.171375\n",
      "total_comments          0.123714\n",
      "total_weights           0.109691\n",
      "average_weight          0.351081\n",
      "Name: average_rating, dtype: float64\n"
     ]
    }
   ],
   "source": [
    "correlations = numeric_columns.corr()\n",
    "print(correlations[\"average_rating\"])"
   ]
  },
  {
   "cell_type": "markdown",
   "metadata": {},
   "source": [
    "average_weight might be over fitting. It would be good to look up the documentation as to how this was calculated. I would also drop the minplayers and maxplayers. "
   ]
  },
  {
   "cell_type": "code",
   "execution_count": 32,
   "metadata": {
    "collapsed": false
   },
   "outputs": [
    {
     "name": "stdout",
     "output_type": "stream",
     "text": [
      "MSE\n",
      "2.09652540835\n",
      "RMSE\n",
      "1.4479383303\n"
     ]
    }
   ],
   "source": [
    "from sklearn.linear_model import LinearRegression\n",
    "from sklearn.metrics import mean_squared_error\n",
    "reg = LinearRegression()\n",
    "fit_data = numeric_columns.drop([\"bayes_average_rating\", \"minplayers\", \"maxplayers\", \"average_rating\"], axis = 1)\n",
    "reg.fit(fit_data, numeric_columns[\"average_rating\"])\n",
    "predictions = reg.predict(fit_data)\n",
    "mse = mean_squared_error(board_games[\"average_rating\"], predictions)\n",
    "print(\"MSE\")\n",
    "print(mse)\n",
    "print(\"RMSE\")\n",
    "print(numpy.sqrt(mse))"
   ]
  },
  {
   "cell_type": "markdown",
   "metadata": {},
   "source": [
    "The RMSE says that on a 10 point scale, we can expect the predicted score to be about 1.4 points off on average."
   ]
  },
  {
   "cell_type": "code",
   "execution_count": null,
   "metadata": {
    "collapsed": true
   },
   "outputs": [],
   "source": []
  }
 ],
 "metadata": {
  "kernelspec": {
   "display_name": "Python 3",
   "language": "python",
   "name": "python3"
  },
  "language_info": {
   "codemirror_mode": {
    "name": "ipython",
    "version": 3
   },
   "file_extension": ".py",
   "mimetype": "text/x-python",
   "name": "python",
   "nbconvert_exporter": "python",
   "pygments_lexer": "ipython3",
   "version": "3.5.1"
  }
 },
 "nbformat": 4,
 "nbformat_minor": 0
}
